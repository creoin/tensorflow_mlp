{
 "cells": [
  {
   "cell_type": "markdown",
   "metadata": {},
   "source": [
    "# TensorFlow Implementation of MLP\n",
    "\n",
    "This is a walkthrough of a TensorFlow implementation of a Multi-Layered Perceptron (MLP), or also known as a Feed-Forward Neural Network. This is a re-implementation of an MLP written in python/numpy, and also serves as an introduction to the TensorFlow python API. The model has 2 fully-connected layers (one with 100 hidden units, one with 3 to match the number of output classes). It was tested on a \"Task\" dataset with 2 inputs, 3 classes, and 15,000 examples.\n",
    "\n",
    "The model has ReLU activations, Dropout, and some L2 Regularisation."
   ]
  },
  {
   "cell_type": "code",
   "execution_count": 1,
   "metadata": {
    "collapsed": true
   },
   "outputs": [],
   "source": [
    "import tensorflow as tf\n",
    "import data_tools as dt\n",
    "\n",
    "import os\n",
    "import csv\n",
    "\n",
    "import matplotlib.pyplot as plt\n",
    "%matplotlib inline"
   ]
  },
  {
   "cell_type": "markdown",
   "metadata": {},
   "source": [
    "## Load and Process the Task Dataset\n",
    "\n",
    "Firstly use a data manager I wrote earlier to process the dataset."
   ]
  },
  {
   "cell_type": "code",
   "execution_count": 2,
   "metadata": {
    "collapsed": false
   },
   "outputs": [
    {
     "name": "stdout",
     "output_type": "stream",
     "text": [
      "Preparing Train/Valid/Test data from data/task/task1.csv\n",
      "Split train has (4000, 4000, 4000) examples of each class\n",
      "Split valid has (500, 500, 500) examples of each class\n",
      "Split test has (500, 500, 500) examples of each class\n",
      "Dataset prepared\n"
     ]
    },
    {
     "data": {
      "text/plain": [
       "True"
      ]
     },
     "execution_count": 2,
     "metadata": {},
     "output_type": "execute_result"
    }
   ],
   "source": [
    "filepath = 'data/task/task1.csv'\n",
    "data_manager = dt.TaskData(filepath, (0.8,0.10,0.10))\n",
    "data_manager.init_dataset()"
   ]
  },
  {
   "cell_type": "code",
   "execution_count": 3,
   "metadata": {
    "collapsed": true
   },
   "outputs": [],
   "source": [
    "train_x, train_y = data_manager.prepare_train()\n",
    "valid_x, valid_y = data_manager.prepare_valid()"
   ]
  },
  {
   "cell_type": "markdown",
   "metadata": {},
   "source": [
    "## Prepare Model\n",
    "\n",
    "### Weights and Placeholders\n",
    "\n",
    "TensorFlow works by first defining a computational graph. This defines points for feeding data, marked by `placeholders` and various operations. In the graph definition, we specify placeholders for the input variables, called `x` here, and also for the ground truth labels, called `y_` here.\n",
    "For Dropout, a `keep_prob` placeholder has also been defined, allowing the probability of dropping weights to be set as an input to the graph.\n",
    "\n",
    "The weights for two layers have also been defined, initialised with a normal distribution about 0 with a standard deviation of 0.1. This initialisation gives the initial network some original \"motion\" to take some steps and begin to optimise.\n",
    "\n",
    "The \"layers\" defined here for Fully-Connected Layers (FC) as in a Multi-Layer Perceptron (MLP) are simple linear operations. `W1` is a matrix of weights, that maps 2 inputs to 100 hidden units (hence the `[2,100]` shape), while `b1` are biases for those 100 units. `W2` and `b1` similarly form an FC layer and operate from the 100 units of the previous layer to 3 outputs, the same as the number of output classes.\n",
    "\n",
    "Variables in TensorFlow represent quantities, like weights, that are changed to optimise and reduce the loss of the model prediction."
   ]
  },
  {
   "cell_type": "code",
   "execution_count": 4,
   "metadata": {
    "collapsed": true
   },
   "outputs": [],
   "source": [
    "# Input placeholders for feeding in the features, x, and ground truth labels, y_\n",
    "x = tf.placeholder(\"float\", shape=[None, 2])\n",
    "y_ = tf.placeholder(\"float\", shape=[None, 3])\n",
    "\n",
    "# Dropout: probability of keeping a given weight where Dropout is applied\n",
    "keep_prob = tf.placeholder(\"float\")\n",
    "\n",
    "# First Layer Weights\n",
    "W1 = tf.Variable(tf.truncated_normal([2,100], stddev=0.1))\n",
    "b1 = tf.Variable(tf.truncated_normal([100], stddev=0.1))\n",
    "\n",
    "# Second Layer Weights\n",
    "W2 = tf.Variable(tf.truncated_normal([100,3], stddev=0.1))\n",
    "b2 = tf.Variable(tf.truncated_normal([3], stddev=0.1))"
   ]
  },
  {
   "cell_type": "markdown",
   "metadata": {
    "collapsed": true
   },
   "source": [
    "## FC Layer Operations and Non-Linearity\n",
    "\n",
    "Next we can define some operations on the inputs and weights, simple linear FC operations. Our inputs, weights and outputs are low-rank tensors that flow through these operations, hence the name `TensorFlow`.\n",
    "\n",
    "Here, `o1` is the output of the first layer. It has also had a Rectified Linear Unit activation applied to it, which introduces non-linearity and allows our network to approximate functions generally.\n",
    "`o2` is the output of the second layer, which will go through a Softmax function rather than ReLU in this small network.\n",
    "\n",
    "These operations are:\n",
    "\n",
    "$$\n",
    "\\begin{align*}\n",
    "O_1 &= \\max(0, XW_1 + b_1)\n",
    "\\\\\n",
    "O_2 &= O_1W_2 + b_2\n",
    "\\end{align*}\n",
    "$$\n",
    "\n",
    "where the `O`s and `W`s are matrices, while the `X`s and `b`s are row vectors, or matrices of multiple examples, marked with subscripts that represent the layers.\n",
    "\n",
    "### Dropout\n",
    "\n",
    "Dropout is another form of regularisation that is popular with Neural Networks, and helps the network generalise beyond its training data. Without dropout, several hidden units may combine to produce one function together and always operate in this collaborative way. With dropout, some of the time these hidden units will be forced to operate independently, breaking away from this single-unit collaborative behaviour. This should help the network generalise, by stopping it from over fitting shapes specific to the training data, and instead learn something a bit more general about the data."
   ]
  },
  {
   "cell_type": "code",
   "execution_count": 5,
   "metadata": {
    "collapsed": false
   },
   "outputs": [],
   "source": [
    "# Layer 1, FC Layer with ReLU activation\n",
    "o1 = tf.nn.relu(tf.matmul(x,W1) + b1)\n",
    "# Add Dropout to first layer\n",
    "o1_dropout = tf.nn.dropout(o1, keep_prob)\n",
    "\n",
    "# Layer 2\n",
    "o2 = tf.matmul(o1_dropout,W2) + b2"
   ]
  },
  {
   "cell_type": "markdown",
   "metadata": {
    "collapsed": false
   },
   "source": [
    "## Softmax and Cross-Entropy Loss\n",
    "\n",
    "### Softmax\n",
    "\n",
    "Our final layer output goes through a softmax function, to convert the outputs into probabilties, called `y` here. The softmax function emphasises large values, and pushes down small values. The softmax function:\n",
    "\n",
    "$${\\rm Softmax}(Z)_i = \\frac{e^{z_i} }{\\sum_j^N e^{z_j} } = p_i \\qquad \\text{for } i=1,...,N$$\n",
    "\n",
    "where $Z$ are the final layer outputs (represented by `o2` in code) and $N$ is the number of classes (3 here). \n",
    "\n",
    "### Cross-Entropy Loss\n",
    "\n",
    "For classification, the Cross-Entropy loss is used. In this implementation, it considers the model output probability of the correct class (masked by `y_` which is one-hot encoded), and penalises the probability the further away it is from 1.0. Small log values would be largely negative, tending to $-\\infty$, which when you take the negative of becomes a largely positive cost value. Large cost is undesirable and represents a poor prediction. The loss function is defined:\n",
    "\n",
    "$$L = - Y \\log (p)$$\n",
    "\n",
    "where $L$ is the cross-entropy loss, $Y$ are the correct ground truth labels (`y_` in the code) that are non-zero only for the correct class, and $p$ are the output probabilities for each class (`y` in the code)).\n",
    "\n",
    "The softmax and cross entropy can be conbined in TensorFlow with the `tf.nn.softmax_cross_entropy_with_logits()` function.\n",
    "\n",
    "### Regularisation\n",
    "\n",
    "For L2 Regularisation, the loss is penalised for having large network weights.\n",
    "\n",
    "The variable `reg_lambda` (regularisation lambda) is a parameter that affects how much the weights penalise the loss.\n",
    "The L2 Regularisation is defined as:\n",
    "\n",
    "$$\\delta {\\rm loss} = \\frac{1}{2} \\lambda \\sum_i (W_i^2)$$\n",
    "\n",
    "Where this sum is carried out over every weight in the Neural Network. There are two sets of weights here, and the `tf.nn.l2_loss(weights)` performs the above calculation. This contribution to the loss from regularisation needs to be added to the loss function, with the `reg_lambda` factor."
   ]
  },
  {
   "cell_type": "code",
   "execution_count": 6,
   "metadata": {
    "collapsed": false
   },
   "outputs": [],
   "source": [
    "# Predictions\n",
    "y = tf.nn.softmax(o2)\n",
    "\n",
    "# cross_entropy = -tf.reduce_sum(y_*tf.log(y))\n",
    "\n",
    "# Regularisation\n",
    "reg_lambda = 1e-3\n",
    "regulariser = tf.nn.l2_loss(W1) + tf.nn.l2_loss(W2)\n",
    "\n",
    "# Loss\n",
    "loss = tf.reduce_mean(tf.nn.softmax_cross_entropy_with_logits(logits=o2, labels=y_)) + (reg_lambda * regulariser)"
   ]
  },
  {
   "cell_type": "markdown",
   "metadata": {
    "collapsed": true
   },
   "source": [
    "## Optimisation\n",
    "\n",
    "In TensorFlow, optimisation is handled by an Optimiser object. It has been set to minimise the the loss from cross-entropy, and will update the network weights to do so. The variable `train_step` it has been assigned to can be fetched from the graph, which will calculate every dependent step up to that operation. So fetching `train_step` will perform both the forward and backward pass on the network."
   ]
  },
  {
   "cell_type": "code",
   "execution_count": 7,
   "metadata": {
    "collapsed": false
   },
   "outputs": [],
   "source": [
    "learning_rate = 0.01\n",
    "train_step = tf.train.GradientDescentOptimizer(learning_rate).minimize(loss)"
   ]
  },
  {
   "cell_type": "markdown",
   "metadata": {
    "collapsed": true
   },
   "source": [
    "## Evaluation Operations\n",
    "\n",
    "Here are some operations that perform some evaluation calculations. They compare the prediction with the labels, then calculate the average of correct predictions as the \"accuracy.\""
   ]
  },
  {
   "cell_type": "code",
   "execution_count": 8,
   "metadata": {
    "collapsed": false
   },
   "outputs": [],
   "source": [
    "# For Validation\n",
    "correct_prediction = tf.equal(tf.argmax(y,1), tf.argmax(y_,1))\n",
    "accuracy = tf.reduce_mean(tf.cast(correct_prediction, \"float\"))"
   ]
  },
  {
   "cell_type": "markdown",
   "metadata": {
    "collapsed": true
   },
   "source": [
    "## Training\n",
    "\n",
    "### TensorFlow Session\n",
    "\n",
    "To train, the operations on the graph need to be executed in a \"session.\" Firstly, all the variables are initialised at once in an optimised way, and the session is started."
   ]
  },
  {
   "cell_type": "code",
   "execution_count": 9,
   "metadata": {
    "collapsed": false
   },
   "outputs": [],
   "source": [
    "init = tf.global_variables_initializer()\n",
    "sess = tf.Session()\n",
    "sess.run(init)"
   ]
  },
  {
   "cell_type": "markdown",
   "metadata": {},
   "source": [
    "### Logging\n",
    "\n",
    "Import a handy litte logger I wrote earlier to just keep track of the Neural Network output."
   ]
  },
  {
   "cell_type": "code",
   "execution_count": 10,
   "metadata": {
    "collapsed": true
   },
   "outputs": [],
   "source": [
    "from data_tools import Logger\n",
    "\n",
    "# Set up a logger for the training data we want to record\n",
    "quantities = ['Iteration', 'Train_Accuracy', 'Valid_Accuracy', 'Loss']\n",
    "train_logs = Logger(*quantities)"
   ]
  },
  {
   "cell_type": "markdown",
   "metadata": {},
   "source": [
    "### Training\n",
    "\n",
    "Now we enter the training loop. In TensorFlow we can execute a calculation with `sess.run` where `sess` is a TensorFlow Session. For each iteration, we fetch `train_step` which performs the forward and backward pass including weight updates, and to do so we feed in data. Here the whole batch of training examples are fed into the placeholder `x`, and all the labels are fed into `y`.\n"
   ]
  },
  {
   "cell_type": "code",
   "execution_count": 11,
   "metadata": {
    "collapsed": false
   },
   "outputs": [
    {
     "name": "stdout",
     "output_type": "stream",
     "text": [
      "Iteration          0: loss  1.072 train accuracy   0.440 valid accuracy   0.565\n",
      "Iteration        100: loss  0.756 train accuracy   0.680 valid accuracy   0.690\n",
      "Iteration        200: loss  0.653 train accuracy   0.767 valid accuracy   0.803\n",
      "Iteration        300: loss  0.577 train accuracy   0.809 valid accuracy   0.839\n",
      "Iteration        400: loss  0.525 train accuracy   0.831 valid accuracy   0.855\n",
      "Iteration        500: loss  0.480 train accuracy   0.849 valid accuracy   0.869\n",
      "Iteration        600: loss  0.444 train accuracy   0.864 valid accuracy   0.877\n",
      "Iteration        700: loss  0.415 train accuracy   0.872 valid accuracy   0.885\n",
      "Iteration        800: loss  0.394 train accuracy   0.877 valid accuracy   0.893\n",
      "Iteration        900: loss  0.374 train accuracy   0.887 valid accuracy   0.901\n",
      "Iteration       1000: loss  0.356 train accuracy   0.890 valid accuracy   0.907\n",
      "Iteration       1100: loss  0.340 train accuracy   0.897 valid accuracy   0.911\n",
      "Iteration       1200: loss  0.327 train accuracy   0.902 valid accuracy   0.916\n",
      "Iteration       1300: loss  0.316 train accuracy   0.904 valid accuracy   0.919\n",
      "Iteration       1400: loss  0.306 train accuracy   0.905 valid accuracy   0.922\n",
      "Iteration       1500: loss  0.296 train accuracy   0.913 valid accuracy   0.925\n",
      "Iteration       1600: loss  0.288 train accuracy   0.911 valid accuracy   0.930\n",
      "Iteration       1700: loss  0.281 train accuracy   0.912 valid accuracy   0.930\n",
      "Iteration       1800: loss  0.273 train accuracy   0.917 valid accuracy   0.932\n",
      "Iteration       1900: loss  0.266 train accuracy   0.918 valid accuracy   0.931\n",
      "Iteration       2000: loss  0.261 train accuracy   0.919 valid accuracy   0.931\n",
      "Iteration       2100: loss  0.255 train accuracy   0.922 valid accuracy   0.933\n",
      "Iteration       2200: loss  0.251 train accuracy   0.922 valid accuracy   0.935\n",
      "Iteration       2300: loss  0.242 train accuracy   0.928 valid accuracy   0.935\n",
      "Iteration       2400: loss  0.240 train accuracy   0.926 valid accuracy   0.937\n",
      "Iteration       2500: loss  0.237 train accuracy   0.927 valid accuracy   0.938\n",
      "Iteration       2600: loss  0.236 train accuracy   0.927 valid accuracy   0.938\n",
      "Iteration       2700: loss  0.229 train accuracy   0.930 valid accuracy   0.940\n",
      "Iteration       2800: loss  0.226 train accuracy   0.929 valid accuracy   0.941\n",
      "Iteration       2900: loss  0.225 train accuracy   0.931 valid accuracy   0.942\n",
      "Iteration       3000: loss  0.221 train accuracy   0.930 valid accuracy   0.943\n"
     ]
    }
   ],
   "source": [
    "# Dropout to apply during training\n",
    "train_keep_prob = 0.7\n",
    "\n",
    "for i in range(3001):\n",
    "    feed_dict = {x: train_x, y_: train_y, keep_prob: train_keep_prob}\n",
    "    train_accuracy, avg_loss, _ = sess.run([accuracy, loss, train_step], feed_dict=feed_dict)\n",
    "    if i % 100 == 0:\n",
    "        valid_accuracy = sess.run(accuracy, feed_dict={x: valid_x, y_: valid_y, keep_prob: 1.0})\n",
    "        \n",
    "        train_logs.log(Iteration=i, Train_Accuracy=train_accuracy, Valid_Accuracy=valid_accuracy, Loss=avg_loss)\n",
    "        \n",
    "        print('Iteration {:10}: loss {:6.3f} train accuracy {:7.3f} valid accuracy {:7.3f}'.format(\n",
    "               i, avg_loss, train_accuracy, valid_accuracy))"
   ]
  },
  {
   "cell_type": "code",
   "execution_count": 12,
   "metadata": {
    "collapsed": false
   },
   "outputs": [
    {
     "name": "stdout",
     "output_type": "stream",
     "text": [
      "Iteration           Train_Accuracy      Valid_Accuracy      Loss                \n",
      "0                   0.440167            0.565333            1.071974            \n",
      "100                 0.680333            0.690000            0.756237            \n",
      "200                 0.766583            0.802667            0.652530            \n",
      "300                 0.808750            0.838667            0.577155            \n",
      "400                 0.830750            0.855333            0.524733            \n",
      "500                 0.848833            0.869333            0.480030            \n",
      "600                 0.864417            0.876667            0.444221            \n",
      "700                 0.872417            0.885333            0.414758            \n",
      "800                 0.877167            0.893333            0.393510            \n",
      "900                 0.887000            0.900667            0.374112            \n",
      "1000                0.890083            0.906667            0.356380            \n",
      "1100                0.897167            0.910667            0.340414            \n",
      "1200                0.901917            0.916000            0.327230            \n",
      "1300                0.904250            0.919333            0.315688            \n",
      "1400                0.904500            0.922000            0.306022            \n",
      "1500                0.912667            0.924667            0.296236            \n",
      "1600                0.911083            0.930000            0.287962            \n",
      "1700                0.911750            0.930000            0.281065            \n",
      "1800                0.917417            0.932000            0.273330            \n",
      "1900                0.918000            0.930667            0.266018            \n",
      "2000                0.919417            0.930667            0.261419            \n",
      "2100                0.921917            0.932667            0.254767            \n",
      "2200                0.921667            0.934667            0.250558            \n",
      "2300                0.927917            0.935333            0.242476            \n",
      "2400                0.925750            0.936667            0.239794            \n",
      "2500                0.927000            0.938000            0.236767            \n",
      "2600                0.926917            0.938000            0.235647            \n",
      "2700                0.930000            0.940000            0.229323            \n",
      "2800                0.928667            0.941333            0.226469            \n",
      "2900                0.930917            0.942000            0.224647            \n",
      "3000                0.930500            0.942667            0.221331            \n"
     ]
    }
   ],
   "source": [
    "train_logs.printlog()\n",
    "experiment = 'notebook_tf_task_training'\n",
    "train_logs.write_csv(os.path.join('experiment/',experiment+'.csv'))"
   ]
  },
  {
   "cell_type": "markdown",
   "metadata": {},
   "source": [
    "## Plot the Output\n",
    "\n",
    "Read in the experiment CSV and make some output plots."
   ]
  },
  {
   "cell_type": "code",
   "execution_count": 13,
   "metadata": {
    "collapsed": true
   },
   "outputs": [],
   "source": [
    "def load_logs(logfile, discard_header=False):\n",
    "    iteration, train_accuracy, valid_accuracy, loss = [], [], [], []\n",
    "    with open(logfile) as f:\n",
    "        reader = csv.reader(f)\n",
    "        for row in reader:\n",
    "            if not row:\n",
    "                continue\n",
    "            if discard_header:\n",
    "                discard_header = False\n",
    "                continue\n",
    "            r_it, r_train_acc, r_valid_acc, r_loss = row\n",
    "            iteration.append(int(r_it))\n",
    "            train_accuracy.append(float(r_train_acc))\n",
    "            valid_accuracy.append(float(r_valid_acc))\n",
    "            loss.append(float(r_loss))\n",
    "    return iteration, train_accuracy, valid_accuracy, loss\n",
    "\n",
    "logfile = 'experiment/' + experiment + '.csv'\n",
    "it_fc100, tr_acc_fc100, va_acc_fc100, loss_fc100 = load_logs(logfile, discard_header=True)\n",
    "# iteration, training accuracy, validation accuracy, loss for FC100-ReLU-Dropout-FC3 configuration"
   ]
  },
  {
   "cell_type": "code",
   "execution_count": 14,
   "metadata": {
    "collapsed": false
   },
   "outputs": [
    {
     "data": {
      "image/png": "[encoded data removed]",
      "text/plain": [
       "<matplotlib.figure.Figure at 0x115f8d9b0>"
      ]
     },
     "metadata": {},
     "output_type": "display_data"
    }
   ],
   "source": [
    "# Colours\n",
    "col_pink   = '#E13375'\n",
    "col_blue   = '#095998'\n",
    "col_orange = '#F17B18'\n",
    "col_green  = '#29C78D'\n",
    "\n",
    "col_red    = '#d91c22'\n",
    "col_cyan   = '#1cd9cc'\n",
    "col_green  = '#81d91c'\n",
    "\n",
    "# Set figure size\n",
    "fig, ax = plt.subplots(figsize=(12,6.75))\n",
    "\n",
    "# Plotting multiple lines\n",
    "ax.plot(it_fc100, va_acc_fc100, linewidth=2, color=col_blue, label='Validation Accuracy')\n",
    "ax.plot(it_fc100, tr_acc_fc100, '--', linewidth=2, color=col_red, label='Training Accuracy')\n",
    "\n",
    "# Plot title\n",
    "ax.set_title('Task Training Accuracy', y=0.93, x=0.15, fontsize=16)\n",
    "\n",
    "# Axes labels, fontsize (offset by adding y=0.0 etc to arguments)\n",
    "ax.set_ylabel('Accuracy', fontsize=16)\n",
    "ax.set_xlabel('Iteration', fontsize=16)\n",
    "\n",
    "# Ticks\n",
    "ax.minorticks_on()\n",
    "ax.tick_params(axis='both', which='major', right='on', top='on', direction='in', labelsize=12, length=6)\n",
    "ax.tick_params(axis='both', which='minor', right='on', top='on', direction='in', labelsize=12, length=4)\n",
    "\n",
    "# Set range limit on axes\n",
    "ax.set_ylim([0,1.2])\n",
    "ax.set_xlim([0,3000])\n",
    "\n",
    "# To set a grid\n",
    "ax.grid(True)\n",
    "\n",
    "# Legend, generated from plot details and labels\n",
    "ax.legend(loc=1, prop={'size': 12})\n",
    "\n",
    "plt.show()\n",
    "# plt.savefig('./experiment/' + the_date + '-' + plotname1 + '.png', bbox_inches='tight')"
   ]
  },
  {
   "cell_type": "code",
   "execution_count": 15,
   "metadata": {
    "collapsed": false
   },
   "outputs": [
    {
     "data": {
      "image/png": "[encoded data removed]",
      "text/plain": [
       "<matplotlib.figure.Figure at 0x115f8d160>"
      ]
     },
     "metadata": {},
     "output_type": "display_data"
    }
   ],
   "source": [
    "# Set figure size\n",
    "fig, ax = plt.subplots(figsize=(12,6.75))\n",
    "\n",
    "ax.plot(it_fc100, loss_fc100, linewidth=2, color=col_blue, label='Loss')\n",
    "\n",
    "# Plot title\n",
    "ax.set_title('Task Training Loss', y=0.93, x=0.15, fontsize=16)\n",
    "\n",
    "# Axes labels, fontsize (offset by adding y=0.0 etc to arguments)\n",
    "ax.set_ylabel('Loss', fontsize=16)\n",
    "ax.set_xlabel('Iteration', fontsize=16)\n",
    "\n",
    "# Ticks\n",
    "ax.minorticks_on()\n",
    "ax.tick_params(axis='both', which='major', right='on', top='on', direction='in', labelsize=12, length=6)\n",
    "ax.tick_params(axis='both', which='minor', right='on', top='on', direction='in', labelsize=12, length=4)\n",
    "\n",
    "# Set range limit on axes\n",
    "# ax.set_ylim([0,1.2])\n",
    "ax.set_xlim([0,3000])\n",
    "\n",
    "# To set a grid\n",
    "ax.grid(True)\n",
    "\n",
    "# Legend, generated from plot details and labels\n",
    "ax.legend(loc=1, prop={'size': 12})\n",
    "\n",
    "plt.show()\n",
    "# plt.savefig('./experiment/' + the_date + '-' + plotname2 + '.png', bbox_inches='tight')"
   ]
  },
  {
   "cell_type": "code",
   "execution_count": null,
   "metadata": {
    "collapsed": true
   },
   "outputs": [],
   "source": []
  }
 ],
 "metadata": {
  "kernelspec": {
   "display_name": "Python 3",
   "language": "python",
   "name": "python3"
  },
  "language_info": {
   "codemirror_mode": {
    "name": "ipython",
    "version": 3
   },
   "file_extension": ".py",
   "mimetype": "text/x-python",
   "name": "python",
   "nbconvert_exporter": "python",
   "pygments_lexer": "ipython3",
   "version": "3.5.1"
  }
 },
 "nbformat": 4,
 "nbformat_minor": 0
}
